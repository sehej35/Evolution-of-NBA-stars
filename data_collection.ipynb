{
 "cells": [
  {
   "cell_type": "code",
   "execution_count": 25,
   "id": "0b0a0f9c",
   "metadata": {},
   "outputs": [],
   "source": [
    "import requests\n",
    "import csv\n",
    "import pandas as pd"
   ]
  },
  {
   "cell_type": "markdown",
   "id": "9a14d2f7",
   "metadata": {},
   "source": [
    "# Players Data"
   ]
  },
  {
   "cell_type": "code",
   "execution_count": null,
   "id": "6584fb4f",
   "metadata": {},
   "outputs": [],
   "source": [
    "# Make a request to the API to get all player data\n",
    "url = 'https://www.balldontlie.io/api/v1/players'\n",
    "params = {'page': 1}\n",
    "all_players = []\n",
    "\n",
    "while True:\n",
    "    response = requests.get(url, params=params)\n",
    "    data = response.json()\n",
    "    all_players.extend(data['data'])\n",
    "    if data['meta']['next_page'] is None:\n",
    "        break\n",
    "    params['page'] += 1"
   ]
  },
  {
   "cell_type": "code",
   "execution_count": 5,
   "id": "f8d60be1",
   "metadata": {},
   "outputs": [],
   "source": [
    "# Write the player data to a CSV file\n",
    "with open('players.csv', 'w', newline='') as csvfile:\n",
    "    fieldnames = all_players[0].keys()\n",
    "    writer = csv.DictWriter(csvfile, fieldnames=fieldnames)\n",
    "    writer.writeheader()\n",
    "    for player in all_players:\n",
    "        writer.writerow(player)"
   ]
  },
  {
   "cell_type": "markdown",
   "id": "fffee772",
   "metadata": {},
   "source": [
    "# Teams Data"
   ]
  },
  {
   "cell_type": "code",
   "execution_count": 8,
   "id": "33c31649",
   "metadata": {},
   "outputs": [],
   "source": [
    "# Make a request to the API to get all team data\n",
    "url = 'https://www.balldontlie.io/api/v1/teams'\n",
    "params = {'page': 1}\n",
    "all_teams = []\n",
    "\n",
    "while True:\n",
    "    response = requests.get(url, params=params)\n",
    "    data = response.json()\n",
    "    all_teams.extend(data['data'])\n",
    "    if data['meta']['next_page'] is None:\n",
    "        break\n",
    "    params['page'] += 1"
   ]
  },
  {
   "cell_type": "code",
   "execution_count": 9,
   "id": "6b0491cd",
   "metadata": {},
   "outputs": [],
   "source": [
    "# Write the team data to a CSV file\n",
    "with open('teams.csv', 'w', newline='') as csvfile:\n",
    "    fieldnames = all_teams[0].keys()\n",
    "    writer = csv.DictWriter(csvfile, fieldnames=fieldnames)\n",
    "    writer.writeheader()\n",
    "    for team in all_teams:\n",
    "        writer.writerow(team)"
   ]
  },
  {
   "cell_type": "markdown",
   "id": "2e3a4650",
   "metadata": {},
   "source": [
    "# Stats Data"
   ]
  },
  {
   "cell_type": "code",
   "execution_count": 20,
   "id": "cd8d4201",
   "metadata": {},
   "outputs": [
    {
     "name": "stdout",
     "output_type": "stream",
     "text": [
      "HTTP error occurred: 429 Client Error: Too Many Requests for url: https://www.balldontlie.io/api/v1/stats?page=104\n"
     ]
    }
   ],
   "source": [
    "# Make a request to the API to get all player game statistics data\n",
    "url = 'https://www.balldontlie.io/api/v1/stats'\n",
    "params = {'page': 1}\n",
    "all_stats = []\n",
    "\n",
    "while True:\n",
    "    response = requests.get(url, params=params)\n",
    "    try:\n",
    "        response.raise_for_status()\n",
    "        data = response.json()\n",
    "    except requests.exceptions.HTTPError as error:\n",
    "        print(f\"HTTP error occurred: {error}\")\n",
    "        break\n",
    "    except ValueError as error:\n",
    "        print(f\"JSON decoding error occurred: {error}\")\n",
    "        break\n",
    "\n",
    "    all_stats.extend(data['data'])\n",
    "    if data['meta']['next_page'] is None:\n",
    "        break\n",
    "    params['page'] += 1\n",
    "\n",
    "# Write the player game statistics data to a CSV file\n",
    "with open('player_stats.csv', 'w', newline='') as csvfile:\n",
    "    fieldnames = ['player_name', 'team_name', 'game_date', 'points', 'rebounds', 'assists', 'steals', 'blocks', 'turnovers', 'minutes']\n",
    "    writer = csv.DictWriter(csvfile, fieldnames=fieldnames)\n",
    "    writer.writeheader()\n",
    "    for stats in all_stats:\n",
    "        writer.writerow({\n",
    "            'player_name': stats['player']['first_name'] + ' ' + stats['player']['last_name'],\n",
    "            'team_name': stats['team']['full_name'],\n",
    "            'game_date': stats['game']['date'],\n",
    "            'points': stats['pts'],\n",
    "            'rebounds': stats['reb'],\n",
    "            'assists': stats['ast'],\n",
    "            'steals': stats['stl'],\n",
    "            'blocks': stats['blk'],\n",
    "            'turnovers': stats['turnover'],\n",
    "            'minutes': stats['min']\n",
    "        })\n",
    "\n"
   ]
  },
  {
   "cell_type": "markdown",
   "id": "af01509f",
   "metadata": {},
   "source": [
    "# Season Averages Data"
   ]
  },
  {
   "cell_type": "code",
   "execution_count": 26,
   "id": "43b73dcd",
   "metadata": {},
   "outputs": [],
   "source": [
    "# replace the URL below with the appropriate API endpoint for your data source\n",
    "url = 'https://www.balldontlie.io/api/v1/season_averages'\n",
    "\n",
    "# send a GET request to the API endpoint\n",
    "response = requests.get(url)\n",
    "\n",
    "# extract the JSON data from the response\n",
    "data = response.json()\n",
    "\n",
    "# convert the JSON data to a Pandas DataFrame\n",
    "df = pd.json_normalize(data['data'])\n",
    "\n",
    "# save the DataFrame to a CSV file\n",
    "df.to_csv('season_averages.csv', index=False)\n"
   ]
  },
  {
   "cell_type": "code",
   "execution_count": 27,
   "id": "64e5f20f",
   "metadata": {},
   "outputs": [
    {
     "data": {
      "text/html": [
       "<div>\n",
       "<style scoped>\n",
       "    .dataframe tbody tr th:only-of-type {\n",
       "        vertical-align: middle;\n",
       "    }\n",
       "\n",
       "    .dataframe tbody tr th {\n",
       "        vertical-align: top;\n",
       "    }\n",
       "\n",
       "    .dataframe thead th {\n",
       "        text-align: right;\n",
       "    }\n",
       "</style>\n",
       "<table border=\"1\" class=\"dataframe\">\n",
       "  <thead>\n",
       "    <tr style=\"text-align: right;\">\n",
       "      <th></th>\n",
       "    </tr>\n",
       "  </thead>\n",
       "  <tbody>\n",
       "  </tbody>\n",
       "</table>\n",
       "</div>"
      ],
      "text/plain": [
       "Empty DataFrame\n",
       "Columns: []\n",
       "Index: []"
      ]
     },
     "execution_count": 27,
     "metadata": {},
     "output_type": "execute_result"
    }
   ],
   "source": [
    "df.head()"
   ]
  }
 ],
 "metadata": {
  "kernelspec": {
   "display_name": "Python 3 (ipykernel)",
   "language": "python",
   "name": "python3"
  },
  "language_info": {
   "codemirror_mode": {
    "name": "ipython",
    "version": 3
   },
   "file_extension": ".py",
   "mimetype": "text/x-python",
   "name": "python",
   "nbconvert_exporter": "python",
   "pygments_lexer": "ipython3",
   "version": "3.9.15"
  }
 },
 "nbformat": 4,
 "nbformat_minor": 5
}
